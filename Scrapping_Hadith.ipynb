{
 "cells": [
  {
   "cell_type": "code",
   "execution_count": 13,
   "metadata": {},
   "outputs": [],
   "source": [
    "from config_hadith import *\n",
    "from selenium import webdriver\n",
    "from selenium.webdriver.firefox.options import Options\n",
    "import os\n",
    "from time import sleep\n",
    "from math import ceil\n",
    "\n",
    "\n",
    "import pymongo\n",
    "from datetime import datetime\n",
    "import pandas as pd\n"
   ]
  },
  {
   "cell_type": "code",
   "execution_count": 14,
   "metadata": {},
   "outputs": [],
   "source": [
    "try:\n",
    "    current_path= os.path.dirname(os.path.abspath(__file__))\n",
    "except:\n",
    "    current_path = '.'"
   ]
  },
  {
   "cell_type": "code",
   "execution_count": 15,
   "metadata": {},
   "outputs": [],
   "source": [
    "def init_driver(gecko_driver='', user_agent='', load_images=True, is_headless=False):\n",
    "    firefox_profile = webdriver.FirefoxProfile()\n",
    "    \n",
    "    firefox_profile.set_preference('dom.ipc.plugins.enabled.libflashplayer.so', False)\n",
    "    firefox_profile.set_preference(\"media.volume_scale\", \"0.0\")\n",
    "    firefox_profile.set_preference(\"dom.webnotifications.enabled\", False)\n",
    "    if user_agent != '':\n",
    "        firefox_profile.set_preference(\"general.useragent.override\", user_agent)\n",
    "    if not load_images:\n",
    "        firefox_profile.set_preference('permissions.default.image', 2)\n",
    "\n",
    "    options = Options()\n",
    "    options.headless = is_headless\n",
    "    \n",
    "    driver = webdriver.Firefox(options=options,\n",
    "                               executable_path=f'{current_path}/{gecko_driver}',\n",
    "                               firefox_profile=firefox_profile)\n",
    "    \n",
    "    return driver\n",
    "\n"
   ]
  },
  {
   "cell_type": "code",
   "execution_count": 16,
   "metadata": {},
   "outputs": [],
   "source": [
    "driver = init_driver(gecko_driver, user_agent=user_agent)\n"
   ]
  },
  {
   "cell_type": "code",
   "execution_count": 5,
   "metadata": {},
   "outputs": [],
   "source": [
    "# driver = driver.get('https://www.islambook.com/hadith/0')"
   ]
  },
  {
   "cell_type": "code",
   "execution_count": 6,
   "metadata": {},
   "outputs": [],
   "source": [
    "# MAX_PAGE_NUM = 10\n",
    "# MAX_PANG_DIG = 3\n",
    "# list_of_hadiths = []\n",
    "# for i in range(1,MAX_PAGE_NUM+1):\n",
    "#     page_num = ((MAX_PANG_DIG - len(str(i))) * \"0\" + str(i))\n",
    "#     url = f\"https://www.islambook.com/hadith/0/{page_num}/\"\n",
    "# #     print(url)\n",
    "# #     print(page_num)\n",
    "#     driver.get(url)\n",
    "#     hadiths = driver.find_elements_by_class_name(\"panel-success\")\n",
    "#     for hadith in hadiths:\n",
    "#         hadith_words = hadith.find_element_by_class_name(\"hadith\")\n",
    "#         list_of_hadiths.append(hadith_words.text)\n",
    "#     sleep(2)\n",
    "# #         print(hadith_words.text,'-'*50)\n",
    "        \n",
    "    "
   ]
  },
  {
   "cell_type": "code",
   "execution_count": 7,
   "metadata": {},
   "outputs": [],
   "source": [
    "# import pandas as pd\n",
    "# df_hadith = pd.DataFrame(list_of_hadiths, columns=['Sahih Bukhari'])\n",
    "# df_hadith.head()"
   ]
  },
  {
   "cell_type": "code",
   "execution_count": 8,
   "metadata": {},
   "outputs": [],
   "source": [
    "# df_hadith['Sahih Bukhari'][0]"
   ]
  },
  {
   "cell_type": "markdown",
   "metadata": {},
   "source": [
    "# Sahih Bukhari"
   ]
  },
  {
   "cell_type": "code",
   "execution_count": 9,
   "metadata": {},
   "outputs": [],
   "source": [
    "MAX_PAGE_NUM = 141\n",
    "MAX_PANG_DIG = 3\n",
    "list_of_hadiths = []\n",
    "for i in range(1,MAX_PAGE_NUM+1):\n",
    "    page_num = ((MAX_PANG_DIG - len(str(i))) * \"0\" + str(i))\n",
    "    url = f\"https://www.islambook.com/hadith/0/{page_num}/\"\n",
    "#     print(url)\n",
    "#     print(page_num)\n",
    "    driver.get(url)\n",
    "    hadiths = driver.find_elements_by_class_name(\"panel-success\")\n",
    "    for hadith in hadiths:\n",
    "        hadith_words = hadith.find_element_by_class_name(\"hadith\")\n",
    "        list_of_hadiths.append(hadith_words.text)\n",
    "    sleep(1)\n",
    "#         print(hadith_words.text,'-'*50)\n",
    "        \n",
    "df_hadith = pd.DataFrame(list_of_hadiths, columns=['Sahih Bukhari'])\n",
    "df_hadith.to_csv('Sahih Bukhari.csv', index = False)"
   ]
  },
  {
   "cell_type": "markdown",
   "metadata": {},
   "source": [
    "# Sahih Muslime"
   ]
  },
  {
   "cell_type": "code",
   "execution_count": 5,
   "metadata": {
    "scrolled": true
   },
   "outputs": [],
   "source": [
    "MAX_PAGE_NUM = 108\n",
    "MAX_PANG_DIG = 3\n",
    "list_of_hadiths = []\n",
    "for i in range(1,MAX_PAGE_NUM+1):\n",
    "    page_num = ((MAX_PANG_DIG - len(str(i))) * \"0\" + str(i))\n",
    "    url = f\"https://www.islambook.com/hadith/1/{page_num}/\"\n",
    "#     print(url)\n",
    "#     print(page_num)\n",
    "    driver.get(url)\n",
    "    hadiths = driver.find_elements_by_class_name(\"panel-success\")\n",
    "    for hadith in hadiths:\n",
    "        hadith_words = hadith.find_element_by_class_name(\"hadith\")\n",
    "        list_of_hadiths.append(hadith_words.text)\n",
    "    sleep(1)\n",
    "#         print(hadith_words.text,'-'*50)\n",
    "        \n",
    "df_hadith = pd.DataFrame(list_of_hadiths, columns=['Sahih Bukhari'])\n",
    "df_hadith.to_csv('Sahih Muslim.csv', index = False)"
   ]
  },
  {
   "cell_type": "markdown",
   "metadata": {},
   "source": [
    "# Sunan al Tirmidhi "
   ]
  },
  {
   "cell_type": "code",
   "execution_count": 6,
   "metadata": {},
   "outputs": [],
   "source": [
    "MAX_PAGE_NUM = 78\n",
    "MAX_PANG_DIG = 3\n",
    "list_of_hadiths = []\n",
    "for i in range(1,MAX_PAGE_NUM+1):\n",
    "    page_num = ((MAX_PANG_DIG - len(str(i))) * \"0\" + str(i))\n",
    "    url = f\"https://www.islambook.com/hadith/2/{page_num}/\"\n",
    "#     print(url)\n",
    "#     print(page_num)\n",
    "    driver.get(url)\n",
    "    hadiths = driver.find_elements_by_class_name(\"panel-success\")\n",
    "    for hadith in hadiths:\n",
    "        hadith_words = hadith.find_element_by_class_name(\"hadith\")\n",
    "        list_of_hadiths.append(hadith_words.text)\n",
    "    sleep(1)\n",
    "#         print(hadith_words.text,'-'*50)\n",
    "        \n",
    "df_hadith = pd.DataFrame(list_of_hadiths, columns=['Sahih Bukhari'])\n",
    "df_hadith.to_csv('Sunan al Tirmidhi.csv', index = False)"
   ]
  },
  {
   "cell_type": "markdown",
   "metadata": {},
   "source": [
    "# Sunan al-Nasai"
   ]
  },
  {
   "cell_type": "code",
   "execution_count": 7,
   "metadata": {},
   "outputs": [],
   "source": [
    "MAX_PAGE_NUM = 114\n",
    "MAX_PANG_DIG = 3\n",
    "list_of_hadiths = []\n",
    "for i in range(1,MAX_PAGE_NUM+1):\n",
    "    page_num = ((MAX_PANG_DIG - len(str(i))) * \"0\" + str(i))\n",
    "    url = f\"https://www.islambook.com/hadith/3/{page_num}/\"\n",
    "#     print(url)\n",
    "#     print(page_num)\n",
    "    driver.get(url)\n",
    "    hadiths = driver.find_elements_by_class_name(\"panel-success\")\n",
    "    for hadith in hadiths:\n",
    "        hadith_words = hadith.find_element_by_class_name(\"hadith\")\n",
    "        list_of_hadiths.append(hadith_words.text)\n",
    "    sleep(1)\n",
    "#         print(hadith_words.text,'-'*50)\n",
    "        \n",
    "df_hadith = pd.DataFrame(list_of_hadiths, columns=['Sahih Bukhari'])\n",
    "df_hadith.to_csv('Sunan al-Nasai.csv', index = False)"
   ]
  },
  {
   "cell_type": "markdown",
   "metadata": {},
   "source": [
    "# Sunan Abu Dawud"
   ]
  },
  {
   "cell_type": "code",
   "execution_count": 8,
   "metadata": {},
   "outputs": [],
   "source": [
    "MAX_PAGE_NUM = 92\n",
    "MAX_PANG_DIG = 3\n",
    "list_of_hadiths = []\n",
    "for i in range(1,MAX_PAGE_NUM+1):\n",
    "    page_num = ((MAX_PANG_DIG - len(str(i))) * \"0\" + str(i))\n",
    "    url = f\"https://www.islambook.com/hadith/3/{page_num}/\"\n",
    "#     print(url)\n",
    "#     print(page_num)\n",
    "    driver.get(url)\n",
    "    hadiths = driver.find_elements_by_class_name(\"panel-success\")\n",
    "    for hadith in hadiths:\n",
    "        hadith_words = hadith.find_element_by_class_name(\"hadith\")\n",
    "        list_of_hadiths.append(hadith_words.text)\n",
    "    sleep(1)\n",
    "#         print(hadith_words.text,'-'*50)\n",
    "        \n",
    "df_hadith = pd.DataFrame(list_of_hadiths, columns=['Sahih Bukhari'])\n",
    "df_hadith.to_csv('Sunan Abu Dawud.csv', index = False)"
   ]
  },
  {
   "cell_type": "markdown",
   "metadata": {},
   "source": [
    "# Sunan Ibn Maja "
   ]
  },
  {
   "cell_type": "code",
   "execution_count": 9,
   "metadata": {},
   "outputs": [],
   "source": [
    "MAX_PAGE_NUM = 87\n",
    "MAX_PANG_DIG = 3\n",
    "list_of_hadiths = []\n",
    "for i in range(1,MAX_PAGE_NUM+1):\n",
    "    page_num = ((MAX_PANG_DIG - len(str(i))) * \"0\" + str(i))\n",
    "    url = f\"https://www.islambook.com/hadith/4/{page_num}/\"\n",
    "#     print(url)\n",
    "#     print(page_num)\n",
    "    driver.get(url)\n",
    "    hadiths = driver.find_elements_by_class_name(\"panel-success\")\n",
    "    for hadith in hadiths:\n",
    "        hadith_words = hadith.find_element_by_class_name(\"hadith\")\n",
    "        list_of_hadiths.append(hadith_words.text)\n",
    "    sleep(1)\n",
    "#         print(hadith_words.text,'-'*50)\n",
    "        \n",
    "df_hadith = pd.DataFrame(list_of_hadiths, columns=['Sahih Bukhari'])\n",
    "df_hadith.to_csv('Sunan Ibn Maja.csv', index = False)"
   ]
  },
  {
   "cell_type": "markdown",
   "metadata": {},
   "source": [
    "# Musnad Ahmad ibn Hanba"
   ]
  },
  {
   "cell_type": "code",
   "execution_count": 17,
   "metadata": {},
   "outputs": [],
   "source": [
    "MAX_PAGE_NUM = 528\n",
    "MAX_PANG_DIG = 3\n",
    "list_of_hadiths = []\n",
    "for i in range(1,MAX_PAGE_NUM+1):\n",
    "    page_num = ((MAX_PANG_DIG - len(str(i))) * \"0\" + str(i))\n",
    "    url = f\"https://www.islambook.com/hadith/5/{page_num}/\"\n",
    "#     print(url)\n",
    "#     print(page_num)\n",
    "    driver.get(url)\n",
    "    hadiths = driver.find_elements_by_class_name(\"panel-success\")\n",
    "    for hadith in hadiths:\n",
    "        hadith_words = hadith.find_element_by_class_name(\"hadith\")\n",
    "        list_of_hadiths.append(hadith_words.text)\n",
    "    sleep(1)\n",
    "#         print(hadith_words.text,'-'*50)\n",
    "        \n",
    "df_hadith = pd.DataFrame(list_of_hadiths, columns=['Sahih Bukhari'])\n",
    "df_hadith.to_csv('Musnad Ahmad ibn Hanba.csv', index = False)"
   ]
  },
  {
   "cell_type": "markdown",
   "metadata": {},
   "source": [
    "# Maliks Muwatta"
   ]
  },
  {
   "cell_type": "code",
   "execution_count": 18,
   "metadata": {},
   "outputs": [],
   "source": [
    "MAX_PAGE_NUM = 32\n",
    "MAX_PANG_DIG = 3\n",
    "list_of_hadiths = []\n",
    "for i in range(1,MAX_PAGE_NUM+1):\n",
    "    page_num = ((MAX_PANG_DIG - len(str(i))) * \"0\" + str(i))\n",
    "    url = f\"https://www.islambook.com/hadith/7/{page_num}/\"\n",
    "#     print(url)\n",
    "#     print(page_num)\n",
    "    driver.get(url)\n",
    "    hadiths = driver.find_elements_by_class_name(\"panel-success\")\n",
    "    for hadith in hadiths:\n",
    "        hadith_words = hadith.find_element_by_class_name(\"hadith\")\n",
    "        list_of_hadiths.append(hadith_words.text)\n",
    "    sleep(1)\n",
    "#         print(hadith_words.text,'-'*50)\n",
    "        \n",
    "df_hadith = pd.DataFrame(list_of_hadiths, columns=['Sahih Bukhari'])\n",
    "df_hadith.to_csv('Maliks Muwatta.csv', index = False)"
   ]
  },
  {
   "cell_type": "markdown",
   "metadata": {},
   "source": [
    "# Sunan al Darami"
   ]
  },
  {
   "cell_type": "code",
   "execution_count": 19,
   "metadata": {},
   "outputs": [],
   "source": [
    "MAX_PAGE_NUM = 68\n",
    "MAX_PANG_DIG = 3\n",
    "list_of_hadiths = []\n",
    "for i in range(1,MAX_PAGE_NUM+1):\n",
    "    page_num = ((MAX_PANG_DIG - len(str(i))) * \"0\" + str(i))\n",
    "    url = f\"https://www.islambook.com/hadith/8/{page_num}/\"\n",
    "#     print(url)\n",
    "#     print(page_num)\n",
    "    driver.get(url)\n",
    "    hadiths = driver.find_elements_by_class_name(\"panel-success\")\n",
    "    for hadith in hadiths:\n",
    "        hadith_words = hadith.find_element_by_class_name(\"hadith\")\n",
    "        list_of_hadiths.append(hadith_words.text)\n",
    "    sleep(1)\n",
    "#         print(hadith_words.text,'-'*50)\n",
    "        \n",
    "df_hadith = pd.DataFrame(list_of_hadiths, columns=['Sahih Bukhari'])\n",
    "df_hadith.to_csv('Sunan al Darami.csv', index = False)"
   ]
  },
  {
   "cell_type": "code",
   "execution_count": null,
   "metadata": {},
   "outputs": [],
   "source": []
  },
  {
   "cell_type": "code",
   "execution_count": null,
   "metadata": {},
   "outputs": [],
   "source": []
  }
 ],
 "metadata": {
  "kernelspec": {
   "display_name": "newEnv",
   "language": "python",
   "name": "newenv"
  },
  "language_info": {
   "codemirror_mode": {
    "name": "ipython",
    "version": 3
   },
   "file_extension": ".py",
   "mimetype": "text/x-python",
   "name": "python",
   "nbconvert_exporter": "python",
   "pygments_lexer": "ipython3",
   "version": "3.7.1"
  }
 },
 "nbformat": 4,
 "nbformat_minor": 2
}
