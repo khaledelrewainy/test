{
 "cells": [
  {
   "cell_type": "code",
   "execution_count": 159,
   "metadata": {},
   "outputs": [],
   "source": [
    "from config import *"
   ]
  },
  {
   "cell_type": "code",
   "execution_count": 160,
   "metadata": {},
   "outputs": [],
   "source": [
    "from selenium import webdriver\n",
    "from selenium.webdriver.firefox.options import Options\n",
    "import os\n",
    "from time import sleep\n",
    "from math import ceil\n",
    "\n",
    "import pymongo\n",
    "from datetime import datetime"
   ]
  },
  {
   "cell_type": "code",
   "execution_count": 161,
   "metadata": {},
   "outputs": [],
   "source": [
    "\n",
    "client = pymongo.MongoClient(f\"mongodb+srv://{mongo_username}:{mongo_pass}@{mngo_url}\")\n",
    "db = client.jumia\n"
   ]
  },
  {
   "cell_type": "code",
   "execution_count": 162,
   "metadata": {},
   "outputs": [],
   "source": [
    "try:\n",
    "    current_path= os.path.dirname(os.path.abspath(__file__))\n",
    "except:\n",
    "    current_path = '.'"
   ]
  },
  {
   "cell_type": "code",
   "execution_count": 163,
   "metadata": {},
   "outputs": [],
   "source": [
    "# driver.quit() # close driver , is better than close\n",
    "# driver.close() # close current tab"
   ]
  },
  {
   "cell_type": "code",
   "execution_count": 164,
   "metadata": {
    "scrolled": true
   },
   "outputs": [],
   "source": [
    "# driver = init_driver(gecko_driver, user_agent=user_agent)\n"
   ]
  },
  {
   "cell_type": "code",
   "execution_count": 165,
   "metadata": {},
   "outputs": [],
   "source": [
    "# driver.get(jumia_base_url) # work well\n"
   ]
  },
  {
   "cell_type": "code",
   "execution_count": 166,
   "metadata": {
    "scrolled": true
   },
   "outputs": [],
   "source": [
    "# _ = get_url('https://www.jumia.com.eg/ar/phones-tablets/?page2', driver)"
   ]
  },
  {
   "cell_type": "code",
   "execution_count": 167,
   "metadata": {},
   "outputs": [],
   "source": [
    "# categories = ['phones-tablets', 'computing']\n",
    "\n",
    "# for categore in categories:\n",
    "#     categore_url = f\"{jumia_base_url}/{categore}\"\n",
    "#     for page_num in range(1,6):\n",
    "#         page_url = f\"{categore_url}/?page{str(page_num)}\"\n",
    "#         _ = get_url(page_url, driver)\n",
    "#         products = get_products(driver)\n",
    "#         break\n",
    "        \n",
    "#     break\n"
   ]
  },
  {
   "cell_type": "markdown",
   "metadata": {},
   "source": [
    "# New one"
   ]
  },
  {
   "cell_type": "code",
   "execution_count": 168,
   "metadata": {
    "scrolled": true
   },
   "outputs": [],
   "source": [
    "def init_driver(gecko_driver='', user_agent='', load_images=True, is_headless=False):\n",
    "    firefox_profile = webdriver.FirefoxProfile()\n",
    "    \n",
    "    firefox_profile.set_preference('dom.ipc.plugins.enabled.libflashplayer.so', False)\n",
    "    firefox_profile.set_preference(\"media.volume_scale\", \"0.0\")\n",
    "    firefox_profile.set_preference(\"dom.webnotifications.enabled\", False)\n",
    "    if user_agent != '':\n",
    "        firefox_profile.set_preference(\"general.useragent.override\", user_agent)\n",
    "    if not load_images:\n",
    "        firefox_profile.set_preference('permissions.default.image', 2)\n",
    "\n",
    "    options = Options()\n",
    "    options.headless = is_headless\n",
    "    \n",
    "    driver = webdriver.Firefox(options=options,\n",
    "                               executable_path=f'{current_path}/{gecko_driver}',\n",
    "                               firefox_profile=firefox_profile)\n",
    "    \n",
    "    return driver\n",
    "\n"
   ]
  },
  {
   "cell_type": "code",
   "execution_count": 169,
   "metadata": {},
   "outputs": [],
   "source": [
    "# # def get_url(page_url, driver):\n",
    "# #     driver.get(page_url)\n",
    "    \n",
    "# #     sleep(30)\n",
    "    \n",
    "# #     close_popup = driver.find_elements_by_css_selector('.-close_popup')\n",
    "# #     if len(close_popup) > 0:\n",
    "# #         close_popup[0].click()\n",
    "        \n",
    "# #     return True\n",
    "\n",
    "# # def get_products(driver):\n",
    "# #     products = driver.find_elements_by_css_selector('section.products .sku')\n",
    "\n",
    "# #     products_info = []\n",
    "\n",
    "# #     for product in products:\n",
    "\n",
    "# #         product_title = ''\n",
    "# #         if len(product.find_elements_by_css_selector('h2.title span.name')) > 0:\n",
    "# #             product_title = product.find_elements_by_css_selector('h2.title span.name')[0].text\n",
    "\n",
    "# #         product_url = ''\n",
    "# #         if len(product.find_elements_by_css_selector('a.link')) > 0:\n",
    "# #             product_url = product.find_elements_by_css_selector('a.link')[0].get_attribute('href')\n",
    "        \n",
    "# #         current_price = 0\n",
    "# #         if len(product.find_elements_by_css_selector('span.price-box .price span')) > 0:\n",
    "# #             current_price = product.find_elements_by_css_selector('span.price-box .price span')[0].get_attribute('data-price')\n",
    "# #             current_price = ceil( float(current_price) )    \n",
    "\n",
    "\n",
    "# #         old_price = 0\n",
    "# #         if len(product.find_elements_by_css_selector('span.price-box .-old span')) > 0:\n",
    "# #             old_price = product.find_elements_by_css_selector('span.price-box .-old span')[0].get_attribute('data-price')\n",
    "# #             old_price = ceil( float(old_price) )\n",
    "\n",
    "\n",
    "# #         discount_percentage = 0\n",
    "# #         discount_quantity = 0\n",
    "\n",
    "# #         if current_price != 0 and old_price != 0 and current_price < old_price:\n",
    "# #             discount_quantity = round( old_price - current_price )\n",
    "# #             discount_percentage = round( 100 - ( (current_price / old_price) * 100 ) )\n",
    "\n",
    "        \n",
    "# #         if product_title == '' or product_url == '' or current_price == 0:\n",
    "# #             continue\n",
    "        \n",
    "# #         product_info = {\n",
    "# #             'product_title': product_title,\n",
    "# #             'product_url': product_url,\n",
    "# #             'current_price': current_price,\n",
    "# #             'old_price': old_price,\n",
    "# #             'discount_percentage': discount_percentage,\n",
    "# #             'discount_quantity': discount_quantity,\n",
    "# #             'inserted_at': datetime.now(),\n",
    "# #             'updated_at': datetime.now(),\n",
    "# #             'published_at': False\n",
    "# #         }\n",
    "        \n",
    "# #         if db.products.count_documents( { '$or': [ {'product_title': product_title}, {'product_url':product_url} ]  } ) == 0:\n",
    "# #             _ = db.products.insert_one( product_info )\n",
    "# #         else:\n",
    "# #             pd = db.products.find_one( { '$or': [ {'product_title': product_title}, {'product_url':product_url} ]  } )\n",
    "# #             if pd['current_price'] != current_price or pd['old_price'] != old_price:\n",
    "# #                 # update prices\n",
    "# #                 db.products.update_one( {'_id': pd['_id'] },{'$set': \n",
    "# #                                                              {'current_price': current_price,\n",
    "# #                                                              'old_price': old_price,\n",
    "# #                                                              'discount_percentage': discount_percentage,\n",
    "# #                                                              'discount_quantity':discount_quantity,\n",
    "# #                                                              'updated_at': datetime.now(),\n",
    "# #                                                              'published_at': False} }  )\n",
    "\n",
    "# #         products_info.append( product_info )\n",
    "    \n",
    "# #     return products_info\n",
    "\n",
    "\n",
    "# # cls -fs0\n",
    "def get_url(page_url, driver):\n",
    "    driver.get(page_url)\n",
    "    sleep(10)\n",
    "    close_tabel_2 = driver.find_elements_by_css_selector('.-close_popup') # middel tap\n",
    "    close_tabel_1 = driver.find_elements_by_css_selector('.banner-close-btn') # left down tap\n",
    "    if len(close_tabel_2):\n",
    "        close_tabel_2[0].click()\n",
    "        \n",
    "    # if the small tap didn't occur\n",
    "    if len(close_tabel_1):\n",
    "        close_tabel_1[0].click()\n",
    "        \n",
    "        \n",
    "    return True\n",
    "\n",
    "\n",
    "# def get_products(driver):\n",
    "#     products = driver.find_elements_by_css_selector('section.products .sku')\n",
    "\n",
    "#     products_info = []\n",
    "\n",
    "#     for product in products:\n",
    "\n",
    "#         product_title = ''\n",
    "#         if len(product.find_elements_by_css_selector('h2.title span.name')) > 0:\n",
    "#             product_title = product.find_elements_by_css_selector('h2.title span.name')[0].text\n",
    "\n",
    "#         product_url = ''\n",
    "#         if len(product.find_elements_by_css_selector('a.link')) > 0:\n",
    "#             product_url = product.find_elements_by_css_selector('a.link')[0].get_attribute('href')\n",
    "        \n",
    "#         current_price = 0\n",
    "#         if len(product.find_elements_by_css_selector('span.price-box .price span')) > 0:\n",
    "#             current_price = product.find_elements_by_css_selector('span.price-box .price span')[0].get_attribute('data-price')\n",
    "#             current_price = ceil( float(current_price) )    \n",
    "\n",
    "\n",
    "#         old_price = 0\n",
    "#         if len(product.find_elements_by_css_selector('span.price-box .-old span')) > 0:\n",
    "#             old_price = product.find_elements_by_css_selector('span.price-box .-old span')[0].get_attribute('data-price')\n",
    "#             old_price = ceil( float(old_price) )\n",
    "\n",
    "\n",
    "#         discount_percentage = 0\n",
    "#         discount_quantity = 0\n",
    "\n",
    "#         if current_price != 0 and old_price != 0 and current_price < old_price:\n",
    "#             discount_quantity = round( old_price - current_price )\n",
    "#             discount_percentage = round( 100 - ( (current_price / old_price) * 100 ) )\n",
    "\n",
    "        \n",
    "#         if product_title == '' or product_url == '' or current_price == 0:\n",
    "#             continue\n",
    "        \n",
    "#         product_info = {\n",
    "#             'product_title': product_title,\n",
    "#             'product_url': product_url,\n",
    "#             'current_price': current_price,\n",
    "#             'old_price': old_price,\n",
    "#             'discount_percentage': discount_percentage,\n",
    "#             'discount_quantity': discount_quantity,\n",
    "#             'inserted_at': datetime.now(),\n",
    "#             'updated_at': datetime.now(),\n",
    "#             'published_at': False\n",
    "#         }\n",
    "        \n",
    "#         if db.products.count_documents( { '$or': [ {'product_title': product_title}, {'product_url':product_url} ]  } ) == 0:\n",
    "#             _ = db.products.insert_one( product_info )\n",
    "#         else:\n",
    "#             pd = db.products.find_one( { '$or': [ {'product_title': product_title}, {'product_url':product_url} ]  } )\n",
    "#             if pd['current_price'] != current_price or pd['old_price'] != old_price:\n",
    "#                 # update prices\n",
    "#                 db.products.update_one( {'_id': pd['_id'] },{'$set': \n",
    "#                                                              {'current_price': current_price,\n",
    "#                                                              'old_price': old_price,\n",
    "#                                                              'discount_percentage': discount_percentage,\n",
    "#                                                              'discount_quantity':discount_quantity,\n",
    "#                                                              'updated_at': datetime.now(),\n",
    "#                                                              'published_at': False} }  )\n",
    "\n",
    "#         products_info.append( product_info )\n",
    "    \n",
    "#     return products_info\n"
   ]
  },
  {
   "cell_type": "code",
   "execution_count": 170,
   "metadata": {},
   "outputs": [],
   "source": [
    "driver = init_driver(gecko_driver, user_agent=user_agent)\n"
   ]
  },
  {
   "cell_type": "code",
   "execution_count": 171,
   "metadata": {},
   "outputs": [],
   "source": [
    "# driver.get('https://www.jumia.com.eg/ar/phones-tablets/?page=1')"
   ]
  },
  {
   "cell_type": "code",
   "execution_count": 172,
   "metadata": {},
   "outputs": [],
   "source": [
    "# osh-font-close-alt banner-close-btn"
   ]
  },
  {
   "cell_type": "code",
   "execution_count": 173,
   "metadata": {},
   "outputs": [],
   "source": [
    "# close_tabel_2 = driver.find_elements_by_css_selector('.-close_popup') # middel tap\n",
    "# close_tabel_1 = driver.find_elements_by_css_selector('.banner-close-btn') # small tap\n",
    "    \n",
    "# if len(close_tabel_2):\n",
    "#     close_tabel_2[0].click()\n",
    "        \n",
    "#     # if the small tap didn't occur\n",
    "# if len(close_tabel_1):\n",
    "#     close_tabel_1[0].click()\n",
    "        "
   ]
  },
  {
   "cell_type": "code",
   "execution_count": 174,
   "metadata": {},
   "outputs": [],
   "source": [
    "# categories = ['phones-tablets', 'electronics']\n",
    "\n",
    "# for category in categories:\n",
    "#     category_url = f\"{jumia_base_url}/{category}\"\n",
    "#     for page in range(1,6):\n",
    "#         page_url = f\"{category_url}/?page={str(page)}\"\n",
    "#         _ = get_url(page_url, driver)\n",
    "#         products = get_products(driver)\n",
    "#         print(products,'-'*50)\n",
    "#         break\n",
    "#     break\n"
   ]
  },
  {
   "cell_type": "code",
   "execution_count": 175,
   "metadata": {},
   "outputs": [],
   "source": [
    "_= get_url('https://www.jumia.com.eg/ar/phones-tablets/?page=1', driver)"
   ]
  },
  {
   "cell_type": "code",
   "execution_count": 176,
   "metadata": {},
   "outputs": [
    {
     "name": "stdout",
     "output_type": "stream",
     "text": [
      "VCT Mobile Phone Tripod - Black\n",
      "https://www.jumia.com.eg/ar/vct-5208-mobile-phone-tripod-black-yunteng-mpg131343.html\n",
      "310\n",
      "650\n",
      "340\n",
      "52\n",
      "--------------------------------------------------\n"
     ]
    },
    {
     "ename": "TypeError",
     "evalue": "float() argument must be a string or a number, not 'NoneType'",
     "output_type": "error",
     "traceback": [
      "\u001b[0;31m---------------------------------------------------------------------------\u001b[0m",
      "\u001b[0;31mTypeError\u001b[0m                                 Traceback (most recent call last)",
      "\u001b[0;32m<ipython-input-176-e45251717a27>\u001b[0m in \u001b[0;36m<module>\u001b[0;34m\u001b[0m\n\u001b[1;32m     16\u001b[0m     \u001b[0;32mif\u001b[0m \u001b[0mlen\u001b[0m\u001b[0;34m(\u001b[0m\u001b[0mproduct\u001b[0m\u001b[0;34m.\u001b[0m\u001b[0mfind_elements_by_css_selector\u001b[0m\u001b[0;34m(\u001b[0m\u001b[0;34m'span.price-box .price span'\u001b[0m\u001b[0;34m)\u001b[0m\u001b[0;34m)\u001b[0m \u001b[0;34m>\u001b[0m \u001b[0;36m0\u001b[0m\u001b[0;34m:\u001b[0m\u001b[0;34m\u001b[0m\u001b[0;34m\u001b[0m\u001b[0m\n\u001b[1;32m     17\u001b[0m         \u001b[0mcurrent_price\u001b[0m \u001b[0;34m=\u001b[0m \u001b[0mproduct\u001b[0m\u001b[0;34m.\u001b[0m\u001b[0mfind_elements_by_css_selector\u001b[0m\u001b[0;34m(\u001b[0m\u001b[0;34m'span.price-box .price span'\u001b[0m\u001b[0;34m)\u001b[0m\u001b[0;34m[\u001b[0m\u001b[0;36m0\u001b[0m\u001b[0;34m]\u001b[0m\u001b[0;34m.\u001b[0m\u001b[0mget_attribute\u001b[0m\u001b[0;34m(\u001b[0m\u001b[0;34m'data-price'\u001b[0m\u001b[0;34m)\u001b[0m\u001b[0;34m\u001b[0m\u001b[0;34m\u001b[0m\u001b[0m\n\u001b[0;32m---> 18\u001b[0;31m         \u001b[0mcurrent_price\u001b[0m \u001b[0;34m=\u001b[0m \u001b[0mceil\u001b[0m\u001b[0;34m(\u001b[0m \u001b[0mfloat\u001b[0m\u001b[0;34m(\u001b[0m\u001b[0mcurrent_price\u001b[0m\u001b[0;34m)\u001b[0m \u001b[0;34m)\u001b[0m\u001b[0;34m\u001b[0m\u001b[0;34m\u001b[0m\u001b[0m\n\u001b[0m\u001b[1;32m     19\u001b[0m \u001b[0;34m\u001b[0m\u001b[0m\n\u001b[1;32m     20\u001b[0m \u001b[0;34m\u001b[0m\u001b[0m\n",
      "\u001b[0;31mTypeError\u001b[0m: float() argument must be a string or a number, not 'NoneType'"
     ]
    }
   ],
   "source": [
    "products = driver.find_elements_by_css_selector('section.products .sku')\n",
    "\n",
    "products_info = []\n",
    "\n",
    "for product in products:\n",
    "    \n",
    "    product_title = ''\n",
    "    if len(product.find_elements_by_css_selector('h2.title span.name')) > 0:\n",
    "        product_title = product.find_elements_by_css_selector('h2.title span.name')[0].text\n",
    "\n",
    "    product_url = ''\n",
    "    if len(product.find_elements_by_css_selector('a.link')) > 0:\n",
    "        product_url = product.find_elements_by_css_selector('a.link')[0].get_attribute('href')\n",
    "        \n",
    "    current_price = 0\n",
    "    if len(product.find_elements_by_css_selector('span.price-box .price span')) > 0:\n",
    "        current_price = product.find_elements_by_css_selector('span.price-box .price span')[0].get_attribute('data-price')\n",
    "        current_price = ceil( float(current_price) )    \n",
    "\n",
    "\n",
    "    old_price = 0\n",
    "    if len(product.find_elements_by_css_selector('span.price-box .-old span')) > 0:\n",
    "        old_price = product.find_elements_by_css_selector('span.price-box .-old span')[0].get_attribute('data-price')\n",
    "        old_price = ceil( float(old_price) )\n",
    "\n",
    "\n",
    "    discount_percentage = 0\n",
    "    discount_quantity = 0\n",
    "\n",
    "    if current_price != 0 and old_price != 0 and current_price < old_price:\n",
    "        discount_quantity = round( old_price - current_price )\n",
    "        discount_percentage = round( 100 - ( (current_price / old_price) * 100 ) )\n",
    "    print(product_title if product_title else \"space\")\n",
    "    print(product_url if product_url else \"space\")\n",
    "    print(current_price if current_price else \"space\")\n",
    "    print(old_price if old_price else \"space\")\n",
    "    print(discount_quantity if discount_quantity else \"space\")\n",
    "    print(discount_percentage if discount_percentage else \"space\")\n",
    "    \n",
    "#     print(product_title)\n",
    "#     print(product_url)\n",
    "#     print(current_price)\n",
    "#     print(old_price)\n",
    "#     print(discount_quantity)\n",
    "#     print(discount_percentage)\n",
    "    print('-'*50)\n",
    "#     print(product_title,'\\n',current_price,'\\n',old_price,'\\n', product_url, '\\n',  discount_quantity,'\\n', discount_percentage,'%', '\\n','-'*30)\n",
    "\n"
   ]
  },
  {
   "cell_type": "code",
   "execution_count": null,
   "metadata": {},
   "outputs": [],
   "source": []
  },
  {
   "cell_type": "code",
   "execution_count": null,
   "metadata": {},
   "outputs": [],
   "source": []
  },
  {
   "cell_type": "code",
   "execution_count": null,
   "metadata": {},
   "outputs": [],
   "source": []
  },
  {
   "cell_type": "code",
   "execution_count": null,
   "metadata": {},
   "outputs": [],
   "source": []
  }
 ],
 "metadata": {
  "kernelspec": {
   "display_name": "newEnv",
   "language": "python",
   "name": "newenv"
  },
  "language_info": {
   "codemirror_mode": {
    "name": "ipython",
    "version": 3
   },
   "file_extension": ".py",
   "mimetype": "text/x-python",
   "name": "python",
   "nbconvert_exporter": "python",
   "pygments_lexer": "ipython3",
   "version": "3.7.1"
  }
 },
 "nbformat": 4,
 "nbformat_minor": 2
}
